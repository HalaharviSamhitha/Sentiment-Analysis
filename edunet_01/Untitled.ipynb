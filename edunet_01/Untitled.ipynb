{
 "cells": [
  {
   "cell_type": "code",
   "execution_count": 1,
   "id": "dc3310f2-7b01-4a75-a390-4b700f1bb7d9",
   "metadata": {},
   "outputs": [],
   "source": [
    "## TF IDF\n"
   ]
  },
  {
   "cell_type": "code",
   "execution_count": 7,
   "id": "a469e3aa-914e-4b57-861e-9de1acf58e7f",
   "metadata": {},
   "outputs": [],
   "source": [
    "from sklearn.feature_extraction.text import TfidfVectorizer"
   ]
  },
  {
   "cell_type": "code",
   "execution_count": 5,
   "id": "4d054b3e-a1fa-4a9e-82c9-a9d0d13b483a",
   "metadata": {},
   "outputs": [
    {
     "name": "stdout",
     "output_type": "stream",
     "text": [
      "Collecting scikit-learn\n",
      "  Downloading scikit_learn-1.5.0-cp312-cp312-win_amd64.whl.metadata (11 kB)\n",
      "Requirement already satisfied: numpy>=1.19.5 in c:\\users\\satwik\\appdata\\local\\programs\\python\\python312\\lib\\site-packages (from scikit-learn) (1.26.4)\n",
      "Collecting scipy>=1.6.0 (from scikit-learn)\n",
      "  Downloading scipy-1.13.1-cp312-cp312-win_amd64.whl.metadata (60 kB)\n",
      "     ---------------------------------------- 0.0/60.6 kB ? eta -:--:--\n",
      "     ---------------------------------------- 60.6/60.6 kB 1.6 MB/s eta 0:00:00\n",
      "Requirement already satisfied: joblib>=1.2.0 in c:\\users\\satwik\\appdata\\local\\programs\\python\\python312\\lib\\site-packages (from scikit-learn) (1.4.2)\n",
      "Collecting threadpoolctl>=3.1.0 (from scikit-learn)\n",
      "  Downloading threadpoolctl-3.5.0-py3-none-any.whl.metadata (13 kB)\n",
      "Downloading scikit_learn-1.5.0-cp312-cp312-win_amd64.whl (10.9 MB)\n",
      "   ---------------------------------------- 0.0/10.9 MB ? eta -:--:--\n",
      "   ---------------------------------------- 0.1/10.9 MB 3.6 MB/s eta 0:00:03\n",
      "   - -------------------------------------- 0.3/10.9 MB 3.4 MB/s eta 0:00:04\n",
      "   -- ------------------------------------- 0.8/10.9 MB 6.1 MB/s eta 0:00:02\n",
      "   ----- ---------------------------------- 1.4/10.9 MB 8.1 MB/s eta 0:00:02\n",
      "   -------- ------------------------------- 2.4/10.9 MB 10.8 MB/s eta 0:00:01\n",
      "   ------------- -------------------------- 3.8/10.9 MB 14.4 MB/s eta 0:00:01\n",
      "   ---------------- ----------------------- 4.6/10.9 MB 15.5 MB/s eta 0:00:01\n",
      "   ---------------------- ----------------- 6.3/10.9 MB 17.4 MB/s eta 0:00:01\n",
      "   ----------------------- ---------------- 6.5/10.9 MB 17.2 MB/s eta 0:00:01\n",
      "   ----------------------- ---------------- 6.5/10.9 MB 17.2 MB/s eta 0:00:01\n",
      "   --------------------------- ------------ 7.5/10.9 MB 15.0 MB/s eta 0:00:01\n",
      "   --------------------------- ------------ 7.5/10.9 MB 15.0 MB/s eta 0:00:01\n",
      "   --------------------------- ------------ 7.5/10.9 MB 13.4 MB/s eta 0:00:01\n",
      "   --------------------------- ------------ 7.5/10.9 MB 13.4 MB/s eta 0:00:01\n",
      "   ------------------------------- -------- 8.5/10.9 MB 12.4 MB/s eta 0:00:01\n",
      "   ---------------------------------- ----- 9.5/10.9 MB 12.9 MB/s eta 0:00:01\n",
      "   ------------------------------------ --- 10.1/10.9 MB 13.5 MB/s eta 0:00:01\n",
      "   ------------------------------------ --- 10.1/10.9 MB 13.5 MB/s eta 0:00:01\n",
      "   ---------------------------------------  10.9/10.9 MB 13.9 MB/s eta 0:00:01\n",
      "   ---------------------------------------- 10.9/10.9 MB 13.6 MB/s eta 0:00:00\n",
      "Downloading scipy-1.13.1-cp312-cp312-win_amd64.whl (45.9 MB)\n",
      "   ---------------------------------------- 0.0/45.9 MB ? eta -:--:--\n",
      "   - -------------------------------------- 1.2/45.9 MB 37.7 MB/s eta 0:00:02\n",
      "   -- ------------------------------------- 2.5/45.9 MB 32.2 MB/s eta 0:00:02\n",
      "   --- ------------------------------------ 4.0/45.9 MB 31.6 MB/s eta 0:00:02\n",
      "   ---- ----------------------------------- 5.4/45.9 MB 31.4 MB/s eta 0:00:02\n",
      "   ---- ----------------------------------- 5.5/45.9 MB 31.9 MB/s eta 0:00:02\n",
      "   ---- ----------------------------------- 5.5/45.9 MB 31.9 MB/s eta 0:00:02\n",
      "   -------- ------------------------------- 9.6/45.9 MB 30.8 MB/s eta 0:00:02\n",
      "   --------- ------------------------------ 11.3/45.9 MB 32.7 MB/s eta 0:00:02\n",
      "   ---------- ----------------------------- 12.0/45.9 MB 28.5 MB/s eta 0:00:02\n",
      "   ---------- ----------------------------- 12.1/45.9 MB 28.5 MB/s eta 0:00:02\n",
      "   ---------- ----------------------------- 12.1/45.9 MB 28.5 MB/s eta 0:00:02\n",
      "   ----------- ---------------------------- 13.6/45.9 MB 24.2 MB/s eta 0:00:02\n",
      "   --------------- ------------------------ 17.6/45.9 MB 36.4 MB/s eta 0:00:01\n",
      "   ---------------- ----------------------- 19.0/45.9 MB 29.7 MB/s eta 0:00:01\n",
      "   ----------------- ---------------------- 20.4/45.9 MB 28.5 MB/s eta 0:00:01\n",
      "   ------------------- -------------------- 22.0/45.9 MB 29.8 MB/s eta 0:00:01\n",
      "   -------------------- ------------------- 23.3/45.9 MB 43.5 MB/s eta 0:00:01\n",
      "   ---------------------- ----------------- 25.3/45.9 MB 36.4 MB/s eta 0:00:01\n",
      "   ----------------------- ---------------- 26.8/45.9 MB 32.8 MB/s eta 0:00:01\n",
      "   ------------------------ --------------- 27.9/45.9 MB 31.2 MB/s eta 0:00:01\n",
      "   ------------------------ --------------- 28.7/45.9 MB 31.2 MB/s eta 0:00:01\n",
      "   -------------------------- ------------- 30.0/45.9 MB 28.4 MB/s eta 0:00:01\n",
      "   --------------------------- ------------ 31.8/45.9 MB 29.7 MB/s eta 0:00:01\n",
      "   ---------------------------- ----------- 33.2/45.9 MB 28.5 MB/s eta 0:00:01\n",
      "   ------------------------------ --------- 34.8/45.9 MB 29.8 MB/s eta 0:00:01\n",
      "   ------------------------------- -------- 36.7/45.9 MB 29.7 MB/s eta 0:00:01\n",
      "   -------------------------------- ------- 37.7/45.9 MB 27.3 MB/s eta 0:00:01\n",
      "   ---------------------------------- ----- 39.1/45.9 MB 32.8 MB/s eta 0:00:01\n",
      "   ----------------------------------- ---- 40.8/45.9 MB 31.2 MB/s eta 0:00:01\n",
      "   ----------------------------------- ---- 40.9/45.9 MB 32.7 MB/s eta 0:00:01\n",
      "   ----------------------------------- ---- 40.9/45.9 MB 32.7 MB/s eta 0:00:01\n",
      "   ----------------------------------- ---- 40.9/45.9 MB 32.7 MB/s eta 0:00:01\n",
      "   ---------------------------------------  45.9/45.9 MB 28.5 MB/s eta 0:00:01\n",
      "   ---------------------------------------  45.9/45.9 MB 28.5 MB/s eta 0:00:01\n",
      "   ---------------------------------------- 45.9/45.9 MB 23.4 MB/s eta 0:00:00\n",
      "Downloading threadpoolctl-3.5.0-py3-none-any.whl (18 kB)\n",
      "Installing collected packages: threadpoolctl, scipy, scikit-learn\n",
      "Successfully installed scikit-learn-1.5.0 scipy-1.13.1 threadpoolctl-3.5.0\n",
      "Note: you may need to restart the kernel to use updated packages.\n"
     ]
    }
   ],
   "source": [
    "pip install scikit-learn"
   ]
  },
  {
   "cell_type": "code",
   "execution_count": 9,
   "id": "f0679489-6aca-4f1e-a1c5-a744b1b64789",
   "metadata": {},
   "outputs": [
    {
     "name": "stdout",
     "output_type": "stream",
     "text": [
      "[[0.         0.48829139 0.         0.         0.60313701 0.\n",
      "  0.         0.         0.48829139 0.39921021 0.        ]\n",
      " [0.58783765 0.         0.         0.         0.46345796 0.\n",
      "  0.         0.58783765 0.         0.30675807 0.        ]\n",
      " [0.         0.37455072 0.         0.58680608 0.         0.\n",
      "  0.         0.         0.37455072 0.61243951 0.        ]\n",
      " [0.         0.23910199 0.37459947 0.         0.         0.37459947\n",
      "  0.37459947 0.         0.47820398 0.39096309 0.37459947]]\n",
      "['blue' 'bright' 'can' 'in' 'is' 'see' 'shining' 'sky' 'sun' 'the' 'we']\n"
     ]
    }
   ],
   "source": [
    "data = [\" The sun is bright\",\n",
    "        \"The sky is blue\",\n",
    "        \"the sun in the bright\",\n",
    "        \"we can see the shining sun, the bright sun\"\n",
    "       ]\n",
    "tfidf_vectorizer = TfidfVectorizer()\n",
    "tfidf_matrix = tfidf_vectorizer.fit_transform(data)\n",
    "print(tfidf_matrix.toarray())\n",
    "print(tfidf_vectorizer.get_feature_names_out())"
   ]
  },
  {
   "cell_type": "code",
   "execution_count": null,
   "id": "0224c41f-3df6-4a2b-9401-68de96368910",
   "metadata": {},
   "outputs": [],
   "source": []
  }
 ],
 "metadata": {
  "kernelspec": {
   "display_name": "Python 3 (ipykernel)",
   "language": "python",
   "name": "python3"
  },
  "language_info": {
   "codemirror_mode": {
    "name": "ipython",
    "version": 3
   },
   "file_extension": ".py",
   "mimetype": "text/x-python",
   "name": "python",
   "nbconvert_exporter": "python",
   "pygments_lexer": "ipython3",
   "version": "3.12.3"
  }
 },
 "nbformat": 4,
 "nbformat_minor": 5
}
